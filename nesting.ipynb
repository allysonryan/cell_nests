{
 "cells": [
  {
   "cell_type": "markdown",
   "metadata": {},
   "source": [
    "# How to check if two objects share covex space.\n",
    "\n",
    "This notebook evaluates if the Convex Hulls of any objects in a field (2d) or volume (3d) are 'nested,' which means that the sum of their individual Convex Hulls is greater than that of the Convex Hull of their volumes considered additively.\n",
    "\n",
    "Objects can only be returned as 'nesting' if the segmentation algorithm used upstream allows for surfaces to be concave. This means that some popular algorithms (i.e., StarDist) should always return a null set for objects in the same set of interest (i.e., nuclei). However, nesting can occur between convex polyhedra of different sets (i.e., nuclear segmentations overlayed with membrane segmentations)."
   ]
  },
  {
   "cell_type": "code",
   "execution_count": 1,
   "metadata": {},
   "outputs": [],
   "source": [
    "# import modules\n",
    "from __future__ import division, print_function\n",
    "import os\n",
    "import numpy as np\n",
    "import matplotlib.pyplot as plt\n",
    "from itertools import combinations\n",
    "from scipy.spatial import ConvexHull\n",
    "%matplotlib inline"
   ]
  },
  {
   "cell_type": "code",
   "execution_count": 2,
   "metadata": {},
   "outputs": [],
   "source": [
    "def find_file_names(fpath, str_id):\n",
    "    \n",
    "    files_in_dir = os.listdir(fpath)\n",
    "    counter = 0\n",
    "    names = ''\n",
    "    \n",
    "    for i in files_in_dir:\n",
    "        if i.endswith(str_id):\n",
    "            counter += 1\n",
    "            names += (i + ',')\n",
    "        else:\n",
    "            continue\n",
    "\n",
    "    names = names[:-1]\n",
    "    names = np.asarray(names.split(sep = ','))\n",
    "    \n",
    "    return names, counter\n",
    "\n",
    "###----------------------------------------------------------------------------------\n",
    "\n",
    "def load_files(fpath, names, counter):\n",
    "    \n",
    "    files = [0] * counter\n",
    "    for i in range(counter):\n",
    "        files[i] = np.load(os.path.join(fpath, names[i]), allow_pickle=True)\n",
    "    \n",
    "    return files\n",
    "\n",
    "###----------------------------------------------------------------------------------\n",
    "\n",
    "def check_nesting(boundary_sets, ids):\n",
    "    \n",
    "    '''boundary_sets and ids should be arrays with the same shape in the first dimension.\n",
    "    \n",
    "       Parameters\n",
    "       ----------\n",
    "       boundary_sets : nd array containing point sets of object boundaries. d0 shape equals number of objects.\n",
    "           Each sub array may have a different shape.\n",
    "       \n",
    "       ids : array_like. shape should be (n,).\n",
    "           Each element is an integer identifying a single object.\n",
    "           \n",
    "       Returns\n",
    "       -------\n",
    "       nested_objs : 1d boolean (0,1) array.\n",
    "           Where ==1, the two objects at that location in dual_idx are nested. \n",
    "           Where ==0, objects are not nested.\n",
    "       \n",
    "       dual_idx: 2d array. \n",
    "           Contains all possible combinations of object identifiers.'''\n",
    "    \n",
    "    n_objs = len(ids)\n",
    "    mono_idx = np.arange(n_objs, dtype = int)\n",
    "    dual_idx = np.asarray(list(combinations(mono_idx, 2)), dtype = int)\n",
    "    \n",
    "    mono_hull_vol = np.empty((n_objs,), dtype = np.float16)\n",
    "    for i in mono_idx:\n",
    "        mono_hull_vol[i] = ConvexHull(boundary_sets[i]).volume\n",
    "    \n",
    "    n_combos = dual_idx.shape[0]\n",
    "    dual_hull_vol = np.empty((n_combos,), dtype = np.float16)\n",
    "    additive_hull_vol = np.empty((n_combos,), dtype = np.float16)\n",
    "    nested_objs = np.empty((n_combos,), dtype = np.uint8)\n",
    "    \n",
    "    for i in range(n_combos):\n",
    "        a,b = dual_idx[i,:]\n",
    "        dual_bnd_set = np.concatenate((boundary_sets[a], boundary_sets[b]), axis = 0)\n",
    "        i_dual = ConvexHull(dual_bnd_set).volume\n",
    "        i_add = mono_hull_vol[a] + mono_hull_vol[b]\n",
    "        dual_hull_vol[i] = i_dual\n",
    "        additive_hull_vol[i] = i_add\n",
    "        \n",
    "        if i_dual < i_add:\n",
    "            nested_objs[i] = 1\n",
    "        else:\n",
    "            nested_objs[i] = 0\n",
    "    \n",
    "    return nested_objs, dual_idx\n",
    "\n",
    "###----------------------------------------------------------------------------------\n",
    "\n",
    "def check_nesting_verbose_return(boundary_sets, ids, retreive_vols = True):\n",
    "    \n",
    "    '''boundary_sets and ids should be arrays with the same shape in the first dimension.\n",
    "    \n",
    "       Parameters\n",
    "       ----------\n",
    "       boundary_sets : nd array containing point sets of object boundaries. d0 shape equals number of objects.\n",
    "           Each sub array may have a different shape.\n",
    "       \n",
    "       ids : array_like. shape should be (n,).\n",
    "           Each element is an integer identifying a single object.\n",
    "           \n",
    "       retreive_vols : if True will output volume measures of joined boundary set convex hulls, \n",
    "           two summed individaul hull volumes and single object convex hulls\n",
    "           \n",
    "       Returns\n",
    "       -------\n",
    "       nested_objs : 1d boolean (0,1) array.\n",
    "           Where ==1, the two objects at that location in dual_idx are nested. \n",
    "           Where ==0, objects are not nested.\n",
    "       \n",
    "       dual_idx: 2d array. \n",
    "           Contains all possible combinations of object identifiers.\n",
    "           \n",
    "       dual_hull_vol: volume on the Convex Hull needed to surround two merged boundary point sets.\n",
    "       \n",
    "       addditive_hull_vol: summed volume of the Convex Hulls of two individual boundary point sets.\n",
    "       \n",
    "       mono_hull_vol: volume of an individual objects Convex Hull'''\n",
    "    \n",
    "    n_objs = len(ids)\n",
    "    mono_idx = np.arange(n_objs, dtype = int)\n",
    "    dual_idx = np.asarray(list(combinations(mono_idx, 2)), dtype = int)\n",
    "    \n",
    "    mono_hull_vol = np.empty((n_objs,), dtype = np.float16)\n",
    "    for i in mono_idx:\n",
    "        mono_hull_vol[i] = ConvexHull(boundary_sets[i]).volume\n",
    "    \n",
    "    n_combos = dual_idx.shape[0]\n",
    "    dual_hull_vol = np.empty((n_combos,), dtype = np.float16)\n",
    "    additive_hull_vol = np.empty((n_combos,), dtype = np.float16)\n",
    "    nested_objs = np.empty((n_combos,), dtype = np.uint8)\n",
    "    \n",
    "    for i in range(n_combos):\n",
    "        a,b = dual_idx[i,:]\n",
    "        dual_bnd_set = np.concatenate((boundary_sets[a], boundary_sets[b]), axis = 0)\n",
    "        i_dual = ConvexHull(dual_bnd_set).volume\n",
    "        i_add = mono_hull_vol[a] + mono_hull_vol[b]\n",
    "        dual_hull_vol[i] = i_dual\n",
    "        additive_hull_vol[i] = i_add\n",
    "        \n",
    "        if i_dual < i_add:\n",
    "            nested_objs[i] = 1\n",
    "        else:\n",
    "            nested_objs[i] = 0\n",
    "    \n",
    "    return nested_objs, dual_idx, dual_hull_vol, additive_hull_vol, mono_hull_vol"
   ]
  },
  {
   "cell_type": "code",
   "execution_count": 3,
   "metadata": {},
   "outputs": [],
   "source": [
    "# load datasets -- users need to define a file path and a string identifier that all necessary files contain\n",
    "\n",
    "fpath = r'cell_nests/example_boundary_sets'\n",
    "str_id = r'um_bnds.npy'\n",
    "\n",
    "names, counter = find_file_names(fpath, str_id)\n",
    "boundary_sets = load_files(fpath, names, counter)"
   ]
  },
  {
   "cell_type": "code",
   "execution_count": 4,
   "metadata": {},
   "outputs": [
    {
     "name": "stdout",
     "output_type": "stream",
     "text": [
      "[[[ 60 154]\n",
      "  [ 72 139]\n",
      "  [ 82 154]\n",
      "  [136 180]]]\n"
     ]
    }
   ],
   "source": [
    "# run nesting_check function\n",
    "\n",
    "ids = np.arange(names.shape[0])\n",
    "nested_objs, dual_idx = check_nesting(boundary_sets, ids)\n",
    "\n",
    "# return object pairs where nesting check is True (i.e., greater than zero)\n",
    "\n",
    "nesting_detected = np.where(nested_objs == 1)\n",
    "nesting_pairs = dual_idx[nesting_detected,:]\n",
    "print(nesting_pairs)"
   ]
  },
  {
   "cell_type": "code",
   "execution_count": 5,
   "metadata": {},
   "outputs": [
    {
     "name": "stdout",
     "output_type": "stream",
     "text": [
      "[[[ 60 154]\n",
      "  [ 72 139]\n",
      "  [ 82 154]\n",
      "  [136 180]]]\n"
     ]
    }
   ],
   "source": [
    "# run verbose nesting check (returns hull volumes as well)\n",
    "\n",
    "nested_objs, dual_idx, dual_hull_vol, additive_hull_vol, mono_hull_vol = check_nesting_verbose_return(boundary_sets, ids)\n",
    "\n",
    "# return object pairs where nesting check is True (i.e., greater than zero)\n",
    "\n",
    "nesting_detected = np.where(nested_objs == 1)\n",
    "nesting_pairs = dual_idx[nesting_detected,:]\n",
    "print(nesting_pairs)"
   ]
  },
  {
   "cell_type": "code",
   "execution_count": 6,
   "metadata": {},
   "outputs": [
    {
     "data": {
      "image/png": "[encoded data removed]",
      "text/plain": [
       "<Figure size 216x216 with 1 Axes>"
      ]
     },
     "metadata": {
      "needs_background": "light"
     },
     "output_type": "display_data"
    },
    {
     "data": {
      "image/png": "[encoded data removed]",
      "text/plain": [
       "<Figure size 216x216 with 1 Axes>"
      ]
     },
     "metadata": {
      "needs_background": "light"
     },
     "output_type": "display_data"
    }
   ],
   "source": [
    "# plot histogram of individual object's convex hull volumes\n",
    "\n",
    "plt.figure(figsize=(3,3))\n",
    "plt.hist(mono_hull_vol, bins = 'fd', facecolor = 'purple')\n",
    "plt.xlabel('$V_{m}$ ($\\mu$m$^3$)', fontsize = 12)\n",
    "plt.xticks(fontsize = 12)\n",
    "plt.ylabel('$N_{cells}$', fontsize = 12)\n",
    "plt.yticks(fontsize = 12)\n",
    "plt.show()\n",
    "\n",
    "# plot dual hull (merged two boundary sets to created convex hull) volume v. additive hull volume (hull_1 + hull_2)\n",
    "\n",
    "plt.figure(figsize=(3,3))\n",
    "plt.scatter(additive_hull_vol, dual_hull_vol, c = 'lightgray', s = 2, alpha = 0.5)\n",
    "plt.scatter(additive_hull_vol[nesting_detected], dual_hull_vol[nesting_detected], s = 2, c = 'purple', label = 'nesting cells')\n",
    "plt.xlabel('$V_{a}$ ($\\mu$m$^3$)', fontsize = 12)\n",
    "plt.xticks(fontsize = 12)\n",
    "plt.ylabel('$V_{d}$ ($\\mu$m$^3$)', fontsize = 12)\n",
    "plt.yticks(fontsize = 12)\n",
    "plt.legend(fontsize = 12)\n",
    "plt.show()"
   ]
  }
 ],
 "metadata": {
  "kernelspec": {
   "display_name": "Python 3",
   "language": "python",
   "name": "python3"
  },
  "language_info": {
   "codemirror_mode": {
    "name": "ipython",
    "version": 3
   },
   "file_extension": ".py",
   "mimetype": "text/x-python",
   "name": "python",
   "nbconvert_exporter": "python",
   "pygments_lexer": "ipython3",
   "version": "3.8.0"
  }
 },
 "nbformat": 4,
 "nbformat_minor": 4
}
